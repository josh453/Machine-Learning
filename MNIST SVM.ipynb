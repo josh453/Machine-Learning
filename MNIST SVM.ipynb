{
 "cells": [
  {
   "cell_type": "markdown",
   "metadata": {},
   "source": [
    "# MNIST Classification with Soft Margin Support Vector Machines\n",
    "## MNIST files available [here](http://yann.lecun.com/exdb/mnist/)"
   ]
  },
  {
   "cell_type": "code",
   "execution_count": 86,
   "metadata": {
    "collapsed": true
   },
   "outputs": [],
   "source": [
    "%matplotlib inline\n",
    "import numpy as np\n",
    "import pandas as pd\n",
    "import gzip, os\n",
    "import matplotlib\n",
    "import time\n",
    "import matplotlib.pyplot as plt\n",
    "from sklearn.svm import SVC, LinearSVC\n",
    "from urllib.request import urlretrieve"
   ]
  },
  {
   "cell_type": "markdown",
   "metadata": {},
   "source": [
    "## Load MNIST handwritten digit"
   ]
  },
  {
   "cell_type": "code",
   "execution_count": 33,
   "metadata": {
    "collapsed": true
   },
   "outputs": [],
   "source": [
    "#Function that downloads MNIST data files\n",
    "def download(filename, source='http://yann.lecun.com/exdb/mnist/'):\n",
    "    urlretrieve(source + filename, filename)\n",
    "\n",
    "#Downloads files if they are not in active directory then unzips and loads MNIST data files\n",
    "def load_mnist_images(filename):\n",
    "    if not os.path.exists(filename):\n",
    "        download(filename)\n",
    "    with gzip.open(filename, 'rb') as f:\n",
    "        data = np.frombuffer(f.read(), np.uint8, offset=16)\n",
    "    data = data.reshape(-1,784)\n",
    "    return data\n",
    "\n",
    "def load_mnist_labels(filename):\n",
    "    if not os.path.exists(filename):\n",
    "        download(filename)\n",
    "    with gzip.open(filename, 'rb') as f:\n",
    "        data = np.frombuffer(f.read(), np.uint8, offset=8)\n",
    "    return data"
   ]
  },
  {
   "cell_type": "code",
   "execution_count": 34,
   "metadata": {
    "collapsed": true
   },
   "outputs": [],
   "source": [
    "#Load training data\n",
    "train_data = load_mnist_images('train-images-idx3-ubyte.gz')\n",
    "train_labels = load_mnist_labels('train-labels-idx1-ubyte.gz')\n",
    "\n",
    "#Load testing data\n",
    "test_data = load_mnist_images('t10k-images-idx3-ubyte.gz')\n",
    "test_labels = load_mnist_labels('t10k-labels-idx1-ubyte.gz')"
   ]
  },
  {
   "cell_type": "code",
   "execution_count": 35,
   "metadata": {
    "collapsed": false
   },
   "outputs": [
    {
     "name": "stdout",
     "output_type": "stream",
     "text": [
      "Training set distribution: \n",
      "{0: 5923, 1: 6742, 2: 5958, 3: 6131, 4: 5842, 5: 5421, 6: 5918, 7: 6265, 8: 5851, 9: 5949}\n",
      "Testing set distribution: \n",
      "{0: 980, 1: 1135, 2: 1032, 3: 1010, 4: 982, 5: 892, 6: 958, 7: 1028, 8: 974, 9: 1009}\n"
     ]
    }
   ],
   "source": [
    "#Check to see distribution of training set and test set and make sure data loaded\n",
    "train_digits, train_counts = np.unique(train_labels, return_counts=True)\n",
    "print(\"Training set distribution: \\n\" + str(dict(zip(train_digits,train_counts))))\n",
    "\n",
    "test_digits, test_counts = np.unique(test_labels, return_counts=True)\n",
    "print(\"Testing set distribution: \\n\" + str(dict(zip(test_digits,test_counts))))"
   ]
  },
  {
   "cell_type": "code",
   "execution_count": 36,
   "metadata": {
    "collapsed": false
   },
   "outputs": [],
   "source": [
    "#Define a function to display handwritten images\n",
    "def display(image):\n",
    "    plt.imshow(np.reshape(image, (28,28)), cmap=plt.cm.gray)\n",
    "    plt.axis('off')"
   ]
  },
  {
   "cell_type": "code",
   "execution_count": 37,
   "metadata": {
    "collapsed": false
   },
   "outputs": [
    {
     "data": {
      "image/png": "[encoded data removed]",
      "text/plain": [
       "<matplotlib.figure.Figure at 0xc312748>"
      ]
     },
     "metadata": {},
     "output_type": "display_data"
    }
   ],
   "source": [
    "display(train_data[1])"
   ]
  },
  {
   "cell_type": "markdown",
   "metadata": {},
   "source": [
    "##  Dual Form Multiclass Linear SVM\n",
    "\n",
    "### General Expectations\n",
    "* Expect to have linear dual form have higher error rate than RBF because of high-dimensionality of data\n",
    "\n",
    "//TODO\n",
    "* K-fold validation\n",
    "* Subset data into smaller chunks and try to find more a more optimal value for C\n",
    "* Center digits by bounding box instead of center of mass as recommended by LeCun\n",
    "* Error rates quite high, especially compared to LeCun, tweak parameters to lower these"
   ]
  },
  {
   "cell_type": "code",
   "execution_count": 95,
   "metadata": {
    "collapsed": false
   },
   "outputs": [
    {
     "name": "stdout",
     "output_type": "stream",
     "text": [
      "Total time in seconds for dual form 159.4751214981079\n"
     ]
    }
   ],
   "source": [
    "# Dual form multiclass linear SVM\n",
    "start = time.time()\n",
    "clf = LinearSVC(C = 1)\n",
    "clf.fit(train_data, train_labels)\n",
    "end = time.time()\n",
    "print(\"Total time in seconds for dual form \" + str(end - start))"
   ]
  },
  {
   "cell_type": "code",
   "execution_count": 109,
   "metadata": {
    "collapsed": false
   },
   "outputs": [
    {
     "name": "stdout",
     "output_type": "stream",
     "text": [
      "Linear SVM made 1557 errors on 10000 labels\n"
     ]
    }
   ],
   "source": [
    "preds = clf.predict(test_data)\n",
    "error = np.sum(preds != test_labels)\n",
    "print(\"Linear SVM made\", error, \"errors on\", len(test_labels), \"labels\")"
   ]
  },
  {
   "cell_type": "code",
   "execution_count": 76,
   "metadata": {
    "collapsed": false
   },
   "outputs": [],
   "source": [
    "#Create confusion matrix\n",
    "df_confusion = pd.crosstab(test_labels, np.transpose(preds))\n",
    "\n",
    "#Create normalized confusion matrix\n",
    "df_conf_norm = df_confusion / df_confusion.sum(axis=1)"
   ]
  },
  {
   "cell_type": "code",
   "execution_count": 107,
   "metadata": {
    "collapsed": false
   },
   "outputs": [
    {
     "data": {
      "image/png": "[encoded data removed]",
      "text/plain": [
       "<matplotlib.figure.Figure at 0x147285f8>"
      ]
     },
     "metadata": {},
     "output_type": "display_data"
    }
   ],
   "source": [
    "def plot_confusion_matrix(df_confusion, title='Confusion matrix with LinearSVC', cmap='binary'):\n",
    "    plt.figure(figsize=(10,10))\n",
    "    plt.matshow(df_confusion, cmap=cmap, fignum=1)\n",
    "    plt.title(title)\n",
    "    plt.colorbar()\n",
    "    tick_marks = np.arange(len(df_confusion.columns))\n",
    "    plt.xticks(tick_marks, df_confusion.columns, rotation=45)\n",
    "    plt.yticks(tick_marks, df_confusion.index)\n",
    "    plt.ylabel(\"Actual\")\n",
    "    plt.xlabel(\"Prediction\")\n",
    "\n",
    "plot_confusion_matrix(df_conf_norm)"
   ]
  },
  {
   "cell_type": "code",
   "execution_count": 111,
   "metadata": {
    "collapsed": false
   },
   "outputs": [
    {
     "name": "stdout",
     "output_type": "stream",
     "text": [
      "Total time in seconds for C-support cector class 159.39911723136902\n"
     ]
    }
   ],
   "source": [
    "# C-Support Vector Classification\n",
    "start = time.time()\n",
    "clf_SVC = SVC()\n",
    "clf.fit(train_data,train_labels)\n",
    "end = time.time()\n",
    "print(\"Total time in seconds for C-support cector class\", end-start)"
   ]
  },
  {
   "cell_type": "code",
   "execution_count": 117,
   "metadata": {
    "collapsed": false
   },
   "outputs": [
    {
     "name": "stdout",
     "output_type": "stream",
     "text": [
      "SVC made 1230 errors on 10000 labels\n"
     ]
    }
   ],
   "source": [
    "preds_SVC = clf.predict(test_data)\n",
    "error_SVC = np.sum(preds_SVC != test_labels)\n",
    "print(\"SVC made\", error_SVC, \"errors on\", len(test_labels), \"labels\")"
   ]
  },
  {
   "cell_type": "code",
   "execution_count": 121,
   "metadata": {
    "collapsed": false
   },
   "outputs": [
    {
     "data": {
      "image/png": "[encoded data removed]",
      "text/plain": [
       "<matplotlib.figure.Figure at 0x146c83c8>"
      ]
     },
     "metadata": {},
     "output_type": "display_data"
    }
   ],
   "source": [
    "#Create confusion matrix\n",
    "df_confusion = pd.crosstab(test_labels, np.transpose(preds_SVC))\n",
    "\n",
    "#Create normalized confusion matrix\n",
    "df_conf_norm = df_confusion / df_confusion.sum(axis=1)\n",
    "plot_confusion_matrix(df_conf_norm, title='Confusion matrix SVC')"
   ]
  }
 ],
 "metadata": {
  "kernelspec": {
   "display_name": "Python 3",
   "language": "python",
   "name": "python3"
  },
  "language_info": {
   "codemirror_mode": {
    "name": "ipython",
    "version": 3
   },
   "file_extension": ".py",
   "mimetype": "text/x-python",
   "name": "python",
   "nbconvert_exporter": "python",
   "pygments_lexer": "ipython3",
   "version": "3.5.4"
  }
 },
 "nbformat": 4,
 "nbformat_minor": 2
}
